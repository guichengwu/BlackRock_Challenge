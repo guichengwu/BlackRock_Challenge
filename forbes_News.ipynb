{
 "cells": [
  {
   "cell_type": "code",
   "execution_count": null,
   "metadata": {
    "collapsed": true
   },
   "outputs": [],
   "source": [
    "R1000_file = '/Users/guichengwu/Desktop/BLKChallenge/R1000.txt'\n",
    "\n",
    "with open(R1000_file) as f:\n",
    "    companies = f.readlines()\n",
    "\n",
    "for i in range(len(companies)):\n",
    "    companies[i] = companies[i].strip()\n",
    "    "
   ]
  },
  {
   "cell_type": "code",
   "execution_count": null,
   "metadata": {
    "collapsed": true
   },
   "outputs": [],
   "source": [
    "import requests\n",
    "from bs4 import BeautifulSoup\n",
    "import argparse\n",
    "import time\n",
    "\n",
    "start_time = time.time()\n",
    "\n",
    "forbes_company = []\n",
    "for company in companies:\n",
    "    r = requests.get('http://www.forbes.com/search', params={'q': '\"' + company + '\"'})\n",
    "    soup = BeautifulSoup(r.text, \"html.parser\")\n",
    "    try:\n",
    "        forbes_company.append(str(soup.find('div',{'class':'total_records fleft'}).text).strip().split(\" \")[0])\n",
    "    except:\n",
    "        print(\"error: \" + company)\n",
    "\n",
    "f = open(\"/Users/guichengwu/Desktop/BLKChallenge/forbes_companies.txt\", \"w\")\n",
    "f.write(\"\\n\".join(map(lambda x: str(x), forbes_company)))\n",
    "f.close()\n",
    "\n",
    "print(\"%s second \" % (time.time() - start_time))"
   ]
  },
  {
   "cell_type": "code",
   "execution_count": null,
   "metadata": {
    "collapsed": true
   },
   "outputs": [],
   "source": [
    "import requests\n",
    "from bs4 import BeautifulSoup\n",
    "import argparse\n",
    "import time\n",
    "\n",
    "start_time = time.time()\n",
    "forbes_company_area = []\n",
    "company_keys = []\n",
    "keyword = \" Virtual Reality\"\n",
    "\n",
    "for company in companies:\n",
    "    company_keys.append(company + keyword)\n",
    "\n",
    "for company_key in company_keys:\n",
    "    r = requests.get('http://www.forbes.com/search', params={'q': company_key})\n",
    "    soup = BeautifulSoup(r.text, \"html.parser\")\n",
    "    try:\n",
    "        forbes_company_area.append(str(soup.find('div',{'class':'total_records fleft'}).text).strip().split(\" \")[0])\n",
    "    except:\n",
    "        print(\"error: \" + company_key)\n",
    "\n",
    "f = open(\"/Users/guichengwu/Desktop/BLKChallenge/forbes_companies_area.txt\", \"w\")\n",
    "\n",
    "f.write(\"\\n\".join(map(lambda x: str(x), forbes_company_area)))\n",
    "f.close()\n",
    "\n",
    "print(\"%s second \" % (time.time() - start_time))"
   ]
  },
  {
   "cell_type": "code",
   "execution_count": null,
   "metadata": {
    "collapsed": true
   },
   "outputs": [],
   "source": [
    "import numpy as np\n",
    "\n",
    "forbes_file1 = '/Users/guichengwu/Desktop/BLKChallenge/forbes_companies.txt'\n",
    "forbes_file2 = '/Users/guichengwu/Desktop/BLKChallenge/forbes_companies_area.txt'\n",
    "\n",
    "with open(forbes_file1) as f:\n",
    "    companies_count = f.readlines()\n",
    "\n",
    "with open(forbes_file2) as f:\n",
    "    companies_area_count = f.readlines()\n",
    "    \n",
    "int_search_company_c = []\n",
    "int_search_company_area_c = []\n",
    "\n",
    "for search_company in companies_count:\n",
    "    int_search_company_c.append(float(search_company.replace(',', '')))\n",
    "\n",
    "for search_company_area in companies_area_count:\n",
    "    int_search_company_area_c.append(float(search_company_area.replace(',', '')))\n",
    "\n",
    "forbes_weight = np.array(int_search_company_area_c) / np.array(int_search_company_c)\n",
    "\n",
    "for i in range(len(forbes_weight)):\n",
    "    if str(forbes_weight[i]) == 'inf' or str(forbes_weight[i]) == 'nan':\n",
    "        forbes_weight[i] = 0\n"
   ]
  },
  {
   "cell_type": "code",
   "execution_count": null,
   "metadata": {
    "collapsed": true
   },
   "outputs": [],
   "source": [
    "w = np.array(companies).flatten()\n",
    "x = np.array(int_search_company_c).flatten()\n",
    "y = np.array(int_search_company_area_c).flatten()\n",
    "z = np.array(forbes_weight.tolist()).flatten()\n",
    "\n",
    "# yahoo_result = np.column_stack((companies[0:200], int_search_company_c, int_search_company_area_c, yahoo_weight))\n",
    "forbes_result = np.array(zip(w, x,  y, z))\n",
    "\n",
    "np.savetxt(\"/Users/guichengwu/Desktop/BLKChallenge/forbes_result.csv\", forbes_result, delimiter=',', fmt='%s')"
   ]
  }
 ],
 "metadata": {
  "kernelspec": {
   "display_name": "Python 2",
   "language": "python",
   "name": "python2"
  },
  "language_info": {
   "codemirror_mode": {
    "name": "ipython",
    "version": 2
   },
   "file_extension": ".py",
   "mimetype": "text/x-python",
   "name": "python",
   "nbconvert_exporter": "python",
   "pygments_lexer": "ipython2",
   "version": "2.7.11"
  }
 },
 "nbformat": 4,
 "nbformat_minor": 0
}
